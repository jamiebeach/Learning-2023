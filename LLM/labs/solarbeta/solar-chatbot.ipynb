{
 "cells": [
  {
   "cell_type": "markdown",
   "metadata": {},
   "source": [
    "Loosely following this tutorial on huggingface here : [Open LLMs Using TGI’s Messages API](https://huggingface.co/learn/cookbook/tgi_messages_api_demo)"
   ]
  },
  {
   "cell_type": "code",
   "execution_count": 1,
   "metadata": {},
   "outputs": [
    {
     "name": "stdout",
     "output_type": "stream",
     "text": [
      "\n",
      "\u001b[1m[\u001b[0m\u001b[34;49mnotice\u001b[0m\u001b[1;39;49m]\u001b[0m\u001b[39;49m A new release of pip is available: \u001b[0m\u001b[31;49m23.3.2\u001b[0m\u001b[39;49m -> \u001b[0m\u001b[32;49m24.0\u001b[0m\n",
      "\u001b[1m[\u001b[0m\u001b[34;49mnotice\u001b[0m\u001b[1;39;49m]\u001b[0m\u001b[39;49m To update, run: \u001b[0m\u001b[32;49mpython -m pip install --upgrade pip\u001b[0m\n"
     ]
    }
   ],
   "source": [
    "!pip install --upgrade -q langchain langchain-community langchainhub langchain-openai llama-index"
   ]
  },
  {
   "cell_type": "code",
   "execution_count": 6,
   "metadata": {},
   "outputs": [
    {
     "name": "stdout",
     "output_type": "stream",
     "text": [
      "\n",
      "\u001b[1m[\u001b[0m\u001b[34;49mnotice\u001b[0m\u001b[1;39;49m]\u001b[0m\u001b[39;49m A new release of pip is available: \u001b[0m\u001b[31;49m23.3.2\u001b[0m\u001b[39;49m -> \u001b[0m\u001b[32;49m24.0\u001b[0m\n",
      "\u001b[1m[\u001b[0m\u001b[34;49mnotice\u001b[0m\u001b[1;39;49m]\u001b[0m\u001b[39;49m To update, run: \u001b[0m\u001b[32;49mpython -m pip install --upgrade pip\u001b[0m\n"
     ]
    }
   ],
   "source": [
    "!pip install --upgrade -q gradio"
   ]
  },
  {
   "cell_type": "code",
   "execution_count": 4,
   "metadata": {},
   "outputs": [],
   "source": [
    "BASE_URL = 'https://api.upstage.ai/v1/solar'\n",
    "APIKEY = ''"
   ]
  },
  {
   "cell_type": "code",
   "execution_count": 2,
   "metadata": {},
   "outputs": [
    {
     "name": "stdout",
     "output_type": "stream",
     "text": [
      "content='Hello! As an artificial intelligence, I do not have feelings or emotions. However, I am here to help you with any questions or tasks you may have. How can I assist you today?'\n"
     ]
    }
   ],
   "source": [
    "from openai import OpenAI\n",
    "import os\n",
    "\n",
    "from langchain_openai import ChatOpenAI\n",
    "from langchain.schema import HumanMessage, SystemMessage\n",
    "\n",
    "chat_model = ChatOpenAI(base_url=BASE_URL, model_name=\"solar-1-mini-chat\", api_key=APIKEY)\n",
    "messages = [\n",
    "    SystemMessage(\n",
    "        content=\"You are a helpful assistant.\"\n",
    "    ),\n",
    "    HumanMessage(\n",
    "        content=\"Hi, how are you?\"\n",
    "    )\n",
    "]\n",
    "\n",
    "response = chat_model.invoke(messages)\n",
    "print(response)"
   ]
  },
  {
   "cell_type": "code",
   "execution_count": null,
   "metadata": {},
   "outputs": [],
   "source": [
    "from openai import OpenAI\n",
    "\n",
    "client = OpenAI(\n",
    "    api_key=APIKEY,\n",
    "    base_url=BASE_URL\n",
    ")\n",
    "\n",
    "# this system prompt will be used globally on the chat session.\n",
    "system_prompt = {\n",
    "    \"role\": \"system\",\n",
    "    \"content\": \"You are a helpful assistant.\"\n",
    "}\n",
    "\n",
    "model = \"solar-1-mini-chat\"\n",
    "\n",
    "# Keep chat history in a list.\n",
    "chat_history = []\n",
    "\n",
    "# Set a limit for the chat history to manage the token count.\n",
    "history_size = 10\n",
    "\n",
    "while True:\n",
    "    # Step 1: Get user input.\n",
    "    user_prompt = input(\"User: \")\n",
    "    chat_history.append({\n",
    "        \"role\": \"user\",\n",
    "        \"content\": user_prompt\n",
    "    })\n",
    "\n",
    "    # Step 2: Use the chat history to generate the chatbot's response.\n",
    "    messages = [system_prompt] + chat_history\n",
    "    stream = client.chat.completions.create(\n",
    "        model=model,\n",
    "        messages=messages,\n",
    "        stream=True,\n",
    "    )\n",
    "\n",
    "    # Step 3: Output the Solar response chunks.\n",
    "    print(\"SOLAR: \", end=\"\")\n",
    "    solar_response = \"\"\n",
    "    for chunk in stream:\n",
    "        response_content = chunk.choices[0].delta.content\n",
    "        if response_content is not None:\n",
    "            solar_response += response_content\n",
    "            print(response_content, end=\"\")\n",
    "    print() # Finish response output.\n",
    "\n",
    "    # Step 4: Append the Solar response to the chat history.\n",
    "    chat_history.append({\n",
    "        \"role\": \"assistant\",\n",
    "        \"content\": solar_response\n",
    "    })\n",
    "\n",
    "    # Step 5: Ensure the chat history doesn't exceed the size limit.\n",
    "    chat_history = chat_history[:history_size]\n"
   ]
  },
  {
   "cell_type": "code",
   "execution_count": 9,
   "metadata": {},
   "outputs": [
    {
     "name": "stdout",
     "output_type": "stream",
     "text": [
      "Running on local URL:  http://127.0.0.1:7862\n",
      "\n",
      "To create a public link, set `share=True` in `launch()`.\n"
     ]
    },
    {
     "data": {
      "text/html": [
       "<div><iframe src=\"http://127.0.0.1:7862/\" width=\"100%\" height=\"500\" allow=\"autoplay; camera; microphone; clipboard-read; clipboard-write;\" frameborder=\"0\" allowfullscreen></iframe></div>"
      ],
      "text/plain": [
       "<IPython.core.display.HTML object>"
      ]
     },
     "metadata": {},
     "output_type": "display_data"
    }
   ],
   "source": [
    "import gradio as gr\n",
    "import random\n",
    "import time\n",
    "\n",
    "client = OpenAI(\n",
    "    api_key=APIKEY,\n",
    "    base_url=BASE_URL\n",
    ")\n",
    "\n",
    "# this system prompt will be used globally on the chat session.\n",
    "system_prompt = {\n",
    "    \"role\": \"system\",\n",
    "    \"content\": \"You are a helpful assistant.\"\n",
    "}\n",
    "\n",
    "model = \"solar-1-mini-chat\"\n",
    "\n",
    "# Keep chat history in a list.\n",
    "chat_history = []\n",
    "\n",
    "# Set a limit for the chat history to manage the token count.\n",
    "history_size = 10\n",
    "\n",
    "def doResponse(user_prompt):\n",
    "    # Step 1: Get user input.\n",
    "    chat_history.append({\n",
    "        \"role\": \"user\",\n",
    "        \"content\": user_prompt\n",
    "    })\n",
    "\n",
    "    # Step 2: Use the chat history to generate the chatbot's response.\n",
    "    messages = [system_prompt] + chat_history\n",
    "    stream = client.chat.completions.create(\n",
    "        model=model,\n",
    "        messages=messages,\n",
    "        stream=True,\n",
    "    )\n",
    "\n",
    "    # Step 3: Output the Solar response chunks.\n",
    "    solar_response = \"\"\n",
    "    for chunk in stream:\n",
    "        response_content = chunk.choices[0].delta.content\n",
    "        if response_content is not None:\n",
    "            solar_response += response_content\n",
    "            print(response_content, end=\"\")\n",
    "    print() # Finish response output.\n",
    "    \n",
    "    # Step 4: Append the Solar response to the chat history.\n",
    "    chat_history.append({\n",
    "        \"role\": \"assistant\",\n",
    "        \"content\": solar_response\n",
    "    })\n",
    "\n",
    "    # Step 5: Ensure the chat history doesn't exceed the size limit.\n",
    "    chat_history = chat_history[:history_size]\n",
    "    return chat_history\n",
    "\n",
    "with gr.Blocks() as demo:\n",
    "    chatbot = gr.Chatbot()\n",
    "    msg = gr.Textbox()\n",
    "    clear = gr.ClearButton([msg, chatbot])\n",
    "\n",
    "    def respond(message, chat_history):\n",
    "        time.sleep(2)\n",
    "        return \"\", doResponse(message)\n",
    "\n",
    "    msg.submit(respond, [msg, chatbot], [msg, chatbot])\n",
    "\n",
    "if __name__ == \"__main__\":\n",
    "    demo.launch()"
   ]
  }
 ],
 "metadata": {
  "kernelspec": {
   "display_name": "Python 3",
   "language": "python",
   "name": "python3"
  },
  "language_info": {
   "codemirror_mode": {
    "name": "ipython",
    "version": 3
   },
   "file_extension": ".py",
   "mimetype": "text/x-python",
   "name": "python",
   "nbconvert_exporter": "python",
   "pygments_lexer": "ipython3",
   "version": "3.10.13"
  }
 },
 "nbformat": 4,
 "nbformat_minor": 2
}
