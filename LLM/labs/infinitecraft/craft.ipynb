{
 "cells": [
  {
   "cell_type": "markdown",
   "metadata": {},
   "source": [
    "# Infinite Craft with AI\n",
    "\n",
    "My son was telling me about a game where he could put things together and that would produce a new thing and it was infinite. So I thought this would be a good experiment with LLM.\n",
    "\n",
    "1. Start with a list of 4 things - fire, water, air and earth\n",
    "2. When any 2 things are put together, create another thing by following these rules :\n",
    "    - Do a lookup in a database. If the combination of those two things already exists, then create the third thing per what is in the db.\n",
    "    - If that combo does not yet exist, use a LLM to create the new thing and store in the database. Then add that new thing to the list of things that the person can craft with."
   ]
  },
  {
   "cell_type": "markdown",
   "metadata": {},
   "source": [
    "## Create the database"
   ]
  },
  {
   "cell_type": "code",
   "execution_count": 1,
   "metadata": {},
   "outputs": [],
   "source": [
    "import duckdb\n",
    "\n",
    "def addItem(name):\n",
    "    conn = duckdb.connect(\"things.db\")\n",
    "    conn.sql(\"INSERT INTO things VALUES (nextval('seq_thingid'), '\" + name +\"')\")\n",
    "\n",
    "# create a connection to a file called 'file.db'\n",
    "con = duckdb.connect(\"things.db\")\n",
    "\n",
    "# create tables\n",
    "con.sql(\"CREATE TABLE things (Thingid INTEGER PRIMARY KEY, Name VARCHAR)\")\n",
    "con.sql(\"CREATE TABLE combos (combo VARCHAR PRIMARY KEY, Name VARCHAR)\")\n",
    "con.sql(\"CREATE SEQUENCE seq_thingid START 1\")\n",
    "con.close()\n",
    "\n",
    "addItem('fire')\n",
    "addItem('water')\n",
    "addItem('air')\n",
    "addItem('earth')"
   ]
  },
  {
   "cell_type": "code",
   "execution_count": 2,
   "metadata": {},
   "outputs": [
    {
     "name": "stdout",
     "output_type": "stream",
     "text": [
      "┌─────────┬─────────┐\n",
      "│ Thingid │  Name   │\n",
      "│  int32  │ varchar │\n",
      "├─────────┼─────────┤\n",
      "│       1 │ fire    │\n",
      "│       2 │ water   │\n",
      "│       3 │ air     │\n",
      "│       4 │ earth   │\n",
      "└─────────┴─────────┘\n",
      "\n"
     ]
    }
   ],
   "source": [
    "con = duckdb.connect(\"things.db\")\n",
    "con.sql(\"SELECT * FROM things\").show()\n",
    "con.close()"
   ]
  },
  {
   "cell_type": "markdown",
   "metadata": {},
   "source": [
    "## Initialize the LLM"
   ]
  },
  {
   "cell_type": "code",
   "execution_count": 4,
   "metadata": {},
   "outputs": [],
   "source": [
    "# get a token: https://platform.openai.com/account/api-keys\n",
    "\n",
    "from getpass import getpass\n",
    "\n",
    "OPENAI_API_KEY = getpass()"
   ]
  },
  {
   "cell_type": "code",
   "execution_count": 5,
   "metadata": {},
   "outputs": [],
   "source": [
    "import os\n",
    "\n",
    "os.environ[\"OPENAI_API_KEY\"] = OPENAI_API_KEY"
   ]
  },
  {
   "cell_type": "code",
   "execution_count": 6,
   "metadata": {},
   "outputs": [],
   "source": [
    "from langchain.chains import LLMChain\n",
    "from langchain.prompts import PromptTemplate\n",
    "from langchain_openai import OpenAI"
   ]
  },
  {
   "cell_type": "code",
   "execution_count": 7,
   "metadata": {},
   "outputs": [],
   "source": [
    "template = (\"Things 1: {word1}, Thing 2: {word2} \"\n",
    "            \"Answer: word association. Given those two things, Thing 1 and Thing 2, \" \n",
    "            \"here is the most likely Thing that I can think of with less than 3 words. \"\n",
    "            \"Here is just that thing with no other text, no matter how odd that thing may \" \n",
    "            \"be in two words or less and no ending punctuation. It must be a plausible thing : \")\n",
    "\n",
    "prompt = PromptTemplate.from_template(template)"
   ]
  },
  {
   "cell_type": "code",
   "execution_count": 8,
   "metadata": {},
   "outputs": [],
   "source": [
    "llm = OpenAI()\n",
    "llm_chain = LLMChain(prompt=prompt, llm=llm)"
   ]
  },
  {
   "cell_type": "code",
   "execution_count": 10,
   "metadata": {},
   "outputs": [
    {
     "data": {
      "text/plain": [
       "{'word1': 'beans', 'word2': 'salsa', 'text': '\\ntaco salad'}"
      ]
     },
     "execution_count": 10,
     "metadata": {},
     "output_type": "execute_result"
    }
   ],
   "source": [
    "llm_chain.invoke({\"word1\":\"beans\", \"word2\":\"salsa\"})"
   ]
  },
  {
   "cell_type": "code",
   "execution_count": 12,
   "metadata": {},
   "outputs": [],
   "source": [
    "def craft(thing1, thing2):\n",
    "    thing1 = thing1.lower()\n",
    "    thing2 = thing2.lower()\n",
    "    thing3 = \"\"\n",
    "\n",
    "    con = duckdb.connect(\"things.db\")\n",
    "    con.execute(\"SELECT * FROM things where Name = '\" + thing1 + \"'\")\n",
    "    result1 = con.fetchone()\n",
    "    con.execute(\"SELECT * FROM things where Name = '\" + thing2 + \"'\")\n",
    "    result2 = con.fetchone()\n",
    "\n",
    "    if(result1 == None or result2 == None):\n",
    "        print(\"your things must exist\")\n",
    "    else:\n",
    "        con.execute(\"SELECT Name from combos WHERE combo = '\" + (thing1 + thing2) + \"'\")\n",
    "        result = con.fetchone();\n",
    "        if(result == None):\n",
    "            resp = llm_chain.invoke({\"word1\":thing1, \"word2\":thing2})\n",
    "            thing3 = resp[\"text\"].lower().strip().replace('.', '').replace(\"\\\"\", \"\").replace(\"'\",\"\")\n",
    "            print(\"you are first to craft: \" + thing3)\n",
    "            print(\"adding to inventory\")\n",
    "\n",
    "            con.sql(\"INSERT INTO things VALUES (nextval('seq_thingid'), '\" + thing3 +\"')\")\n",
    "            con.sql(\"INSERT INTO combos VALUES ('\" + (thing1 + thing2) + \"', '\" + thing3 + \"')\")\n",
    "            print(\"ineserted\")\n",
    "        else:\n",
    "            thing3 = result[0]\n",
    "            print(thing3)\n",
    "    con.close()\n",
    "    return thing3"
   ]
  },
  {
   "cell_type": "code",
   "execution_count": 60,
   "metadata": {},
   "outputs": [
    {
     "name": "stdout",
     "output_type": "stream",
     "text": [
      "you are first to craft: natures wonder\n",
      "adding to inventory\n",
      "ineserted\n"
     ]
    }
   ],
   "source": [
    "craft(\"\", \"waterfall\")"
   ]
  },
  {
   "cell_type": "code",
   "execution_count": 61,
   "metadata": {},
   "outputs": [
    {
     "name": "stdout",
     "output_type": "stream",
     "text": [
      "┌─────────┬─────────────────────┐\n",
      "│ Thingid │        Name         │\n",
      "│  int32  │       varchar       │\n",
      "├─────────┼─────────────────────┤\n",
      "│       1 │ fire                │\n",
      "│       2 │ water               │\n",
      "│       3 │ air                 │\n",
      "│       4 │ earth               │\n",
      "│       5 │ steam               │\n",
      "│       6 │ heat source         │\n",
      "│       7 │ hot springs         │\n",
      "│       8 │ planet earth        │\n",
      "│       9 │ habitat destruction │\n",
      "│      10 │ heat wave           │\n",
      "│       · │     ·               │\n",
      "│       · │     ·               │\n",
      "│       · │     ·               │\n",
      "│      28 │ burning sensation   │\n",
      "│      29 │ volcano             │\n",
      "│      30 │ eruption            │\n",
      "│      31 │ molten lava         │\n",
      "│      32 │ volcanic explosion  │\n",
      "│      33 │ volcano eruption    │\n",
      "│      34 │ magma fountain      │\n",
      "│      35 │ word association    │\n",
      "│      36 │ waterfall           │\n",
      "│      37 │ natures wonder      │\n",
      "├─────────┴─────────────────────┤\n",
      "│ 37 rows (20 shown)  2 columns │\n",
      "└───────────────────────────────┘\n",
      "\n",
      "┌──────────────────────────┬─────────────────────┐\n",
      "│          combo           │        Name         │\n",
      "│         varchar          │       varchar       │\n",
      "├──────────────────────────┼─────────────────────┤\n",
      "│ waterfire                │ steam               │\n",
      "│ steamfire                │ heat source         │\n",
      "│ steamearth               │ hot springs         │\n",
      "│ earthearth               │ planet earth        │\n",
      "│ planet earthplanet earth │ habitat destruction │\n",
      "│ fireair                  │ heat wave           │\n",
      "│ earthair                 │ wind                │\n",
      "│ windair                  │ breath              │\n",
      "│ breathair                │ life force          │\n",
      "│ life forceair            │ breeze              │\n",
      "│     ·                    │   ·                 │\n",
      "│     ·                    │   ·                 │\n",
      "│     ·                    │   ·                 │\n",
      "│ flamefire                │ burning sensation   │\n",
      "│ flameearth               │ volcano             │\n",
      "│ volcanoearth             │ eruption            │\n",
      "│ volcanoeruption          │ molten lava         │\n",
      "│ molten lavaeruption      │ volcanic explosion  │\n",
      "│ molten lavaearth         │ volcano eruption    │\n",
      "│ molten lavawater         │ magma fountain      │\n",
      "│ waterwater               │ word association    │\n",
      "│ watervolcano             │ waterfall           │\n",
      "│ waterwaterfall           │ natures wonder      │\n",
      "├──────────────────────────┴─────────────────────┤\n",
      "│ 33 rows (20 shown)                   2 columns │\n",
      "└────────────────────────────────────────────────┘\n",
      "\n"
     ]
    }
   ],
   "source": [
    "con = duckdb.connect(\"things.db\")\n",
    "con.sql(\"SELECT * FROM things\").show()\n",
    "con.sql(\"SELECT * FROM combos\").show()\n",
    "con.close()"
   ]
  },
  {
   "cell_type": "code",
   "execution_count": 63,
   "metadata": {},
   "outputs": [
    {
     "name": "stdout",
     "output_type": "stream",
     "text": [
      "Running on local URL:  http://127.0.0.1:7861\n",
      "\n",
      "To create a public link, set `share=True` in `launch()`.\n"
     ]
    },
    {
     "data": {
      "text/html": [
       "<div><iframe src=\"http://127.0.0.1:7861/\" width=\"100%\" height=\"500\" allow=\"autoplay; camera; microphone; clipboard-read; clipboard-write;\" frameborder=\"0\" allowfullscreen></iframe></div>"
      ],
      "text/plain": [
       "<IPython.core.display.HTML object>"
      ]
     },
     "metadata": {},
     "output_type": "display_data"
    },
    {
     "data": {
      "text/plain": []
     },
     "execution_count": 63,
     "metadata": {},
     "output_type": "execute_result"
    },
    {
     "name": "stdout",
     "output_type": "stream",
     "text": [
      "steam\n"
     ]
    }
   ],
   "source": [
    "import gradio as gr\n",
    "\n",
    "def docraft(Thing1, Thing2):\n",
    "    t = craft(Thing1, Thing2)\n",
    "    return t\n",
    "\n",
    "demo = gr.Interface(\n",
    "    fn=docraft,\n",
    "    inputs=[\"text\", \"text\"],\n",
    "    outputs=[\"text\"],\n",
    ")\n",
    "\n",
    "demo.launch()"
   ]
  }
 ],
 "metadata": {
  "kernelspec": {
   "display_name": "venv",
   "language": "python",
   "name": "python3"
  },
  "language_info": {
   "codemirror_mode": {
    "name": "ipython",
    "version": 3
   },
   "file_extension": ".py",
   "mimetype": "text/x-python",
   "name": "python",
   "nbconvert_exporter": "python",
   "pygments_lexer": "ipython3",
   "version": "3.10.11"
  }
 },
 "nbformat": 4,
 "nbformat_minor": 2
}
