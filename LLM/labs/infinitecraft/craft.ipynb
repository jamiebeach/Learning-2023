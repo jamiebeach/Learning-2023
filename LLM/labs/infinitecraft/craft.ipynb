{
 "cells": [
  {
   "cell_type": "markdown",
   "metadata": {},
   "source": [
    "# Infinite Craft with AI\n",
    "\n",
    "My son was telling me about a game where he could put things together and that would produce a new thing and it was infinite. So I thought this would be a good experiment with LLM.\n",
    "\n",
    "1. Start with a list of 4 things - fire, water, air and earth\n",
    "2. When any 2 things are put together, create another thing by following these rules :\n",
    "    - Do a lookup in a database. If the combination of those two things already exists, then create the third thing per what is in the db.\n",
    "    - If that combo does not yet exist, use a LLM to create the new thing and store in the database. Then add that new thing to the list of things that the person can craft with."
   ]
  },
  {
   "cell_type": "markdown",
   "metadata": {},
   "source": [
    "## Create the database"
   ]
  },
  {
   "cell_type": "code",
   "execution_count": 1,
   "metadata": {},
   "outputs": [],
   "source": [
    "import duckdb\n",
    "\n",
    "def addItem(name):\n",
    "    conn = duckdb.connect(\"things.db\")\n",
    "    conn.sql(\"INSERT INTO things VALUES (nextval('seq_thingid'), '\" + name +\"')\")\n",
    "\n",
    "# create a connection to a file called 'file.db'\n",
    "con = duckdb.connect(\"things.db\")\n",
    "\n",
    "# create tables\n",
    "con.sql(\"CREATE TABLE things (Thingid INTEGER PRIMARY KEY, Name VARCHAR)\")\n",
    "con.sql(\"CREATE TABLE combos (combo VARCHAR PRIMARY KEY, Name VARCHAR)\")\n",
    "con.sql(\"CREATE SEQUENCE seq_thingid START 1\")\n",
    "con.close()\n",
    "\n",
    "addItem('fire')\n",
    "addItem('water')\n",
    "addItem('air')\n",
    "addItem('earth')"
   ]
  },
  {
   "cell_type": "code",
   "execution_count": 22,
   "metadata": {},
   "outputs": [
    {
     "name": "stdout",
     "output_type": "stream",
     "text": [
      "┌─────────┬─────────┐\n",
      "│ Thingid │  Name   │\n",
      "│  int32  │ varchar │\n",
      "├─────────┼─────────┤\n",
      "│       1 │ fire    │\n",
      "│       2 │ water   │\n",
      "│       3 │ air     │\n",
      "│       4 │ earth   │\n",
      "└─────────┴─────────┘\n",
      "\n"
     ]
    }
   ],
   "source": [
    "con = duckdb.connect(\"things.db\")\n",
    "con.sql(\"SELECT * FROM things\").show()\n",
    "con.close()"
   ]
  },
  {
   "cell_type": "markdown",
   "metadata": {},
   "source": [
    "## Initialize the LLM"
   ]
  },
  {
   "cell_type": "code",
   "execution_count": 3,
   "metadata": {},
   "outputs": [],
   "source": [
    "# get a token: https://platform.openai.com/account/api-keys\n",
    "\n",
    "from getpass import getpass\n",
    "\n",
    "OPENAI_API_KEY = getpass()"
   ]
  },
  {
   "cell_type": "code",
   "execution_count": 4,
   "metadata": {},
   "outputs": [],
   "source": [
    "import os\n",
    "\n",
    "os.environ[\"OPENAI_API_KEY\"] = OPENAI_API_KEY"
   ]
  },
  {
   "cell_type": "code",
   "execution_count": 5,
   "metadata": {},
   "outputs": [],
   "source": [
    "from langchain.chains import LLMChain\n",
    "from langchain.prompts import PromptTemplate\n",
    "from langchain_openai import OpenAI"
   ]
  },
  {
   "cell_type": "code",
   "execution_count": 7,
   "metadata": {},
   "outputs": [],
   "source": [
    "template = (\"Things 1: {word1}, Thing 2: {word2} \"\n",
    "            \"Answer: word association. Given those two things, Thing 1 and Thing 2, \" \n",
    "            \"here is the most likely Thing that I can think of with less than 3 words. \"\n",
    "            \"Here is just that thin with no other text, no matter how odd that thing may \" \n",
    "            \"be in three words or less and no ending punctuation: \")\n",
    "\n",
    "prompt = PromptTemplate.from_template(template)"
   ]
  },
  {
   "cell_type": "code",
   "execution_count": 8,
   "metadata": {},
   "outputs": [],
   "source": [
    "llm = OpenAI()\n",
    "llm_chain = LLMChain(prompt=prompt, llm=llm)"
   ]
  },
  {
   "cell_type": "code",
   "execution_count": 9,
   "metadata": {},
   "outputs": [
    {
     "data": {
      "text/plain": [
       "{'word1': 'beans', 'word2': 'salsa', 'text': '\\nBean dip.'}"
      ]
     },
     "execution_count": 9,
     "metadata": {},
     "output_type": "execute_result"
    }
   ],
   "source": [
    "llm_chain.invoke({\"word1\":\"beans\", \"word2\":\"salsa\"})"
   ]
  },
  {
   "cell_type": "code",
   "execution_count": 62,
   "metadata": {},
   "outputs": [],
   "source": [
    "def craft(thing1, thing2):\n",
    "    thing1 = thing1.lower()\n",
    "    thing2 = thing2.lower()\n",
    "    thing3 = \"\"\n",
    "\n",
    "    con = duckdb.connect(\"things.db\")\n",
    "    con.execute(\"SELECT * FROM things where Name = '\" + thing1 + \"'\")\n",
    "    result1 = con.fetchone()\n",
    "    con.execute(\"SELECT * FROM things where Name = '\" + thing2 + \"'\")\n",
    "    result2 = con.fetchone()\n",
    "\n",
    "    if(result1 == None or result2 == None):\n",
    "        print(\"your things must exist\")\n",
    "    else:\n",
    "        con.execute(\"SELECT Name from combos WHERE combo = '\" + (thing1 + thing2) + \"'\")\n",
    "        result = con.fetchone();\n",
    "        if(result == None):\n",
    "            resp = llm_chain.invoke({\"word1\":thing1, \"word2\":thing2})\n",
    "            thing3 = resp[\"text\"].lower().strip().replace('.', '').replace(\"\\\"\", \"\").replace(\"'\",\"\")\n",
    "            print(\"you are first to craft: \" + thing3)\n",
    "            print(\"adding to inventory\")\n",
    "\n",
    "            con.sql(\"INSERT INTO things VALUES (nextval('seq_thingid'), '\" + thing3 +\"')\")\n",
    "            con.sql(\"INSERT INTO combos VALUES ('\" + (thing1 + thing2) + \"', '\" + thing3 + \"')\")\n",
    "            print(\"ineserted\")\n",
    "        else:\n",
    "            print(result[0])\n",
    "    con.close()"
   ]
  },
  {
   "cell_type": "code",
   "execution_count": 65,
   "metadata": {},
   "outputs": [
    {
     "name": "stdout",
     "output_type": "stream",
     "text": [
      "you are first to craft: marine circulation\n",
      "adding to inventory\n",
      "ineserted\n"
     ]
    }
   ],
   "source": [
    "craft(\"earths lifeline\", \"ocean currents\")"
   ]
  },
  {
   "cell_type": "code",
   "execution_count": 66,
   "metadata": {},
   "outputs": [
    {
     "name": "stdout",
     "output_type": "stream",
     "text": [
      "┌─────────┬───────────────────────────┐\n",
      "│ Thingid │           Name            │\n",
      "│  int32  │          varchar          │\n",
      "├─────────┼───────────────────────────┤\n",
      "│       1 │ fire                      │\n",
      "│       2 │ water                     │\n",
      "│       3 │ air                       │\n",
      "│       4 │ earth                     │\n",
      "│       5 │ steam explosion.          │\n",
      "│       6 │ elemental forces          │\n",
      "│       7 │ \"inferno fury\"            │\n",
      "│       8 │ hot wind gust             │\n",
      "│       9 │ firestorm                 │\n",
      "│      10 │ fire and earth            │\n",
      "│      11 │ volcanic eruption         │\n",
      "│      12 │ disaster duo              │\n",
      "│      13 │ eruption aftermath chaos  │\n",
      "│      14 │ tsunami catastrophe       │\n",
      "│      15 │ ocean                     │\n",
      "│      16 │ blue planet               │\n",
      "│      17 │ beautiful, fragile orb    │\n",
      "│      18 │ ocean, aquatic, or marine │\n",
      "│      19 │ water extinguishes fire   │\n",
      "│      20 │ water cycle               │\n",
      "│      21 │ ocean currents            │\n",
      "│      22 │ earths lifeline           │\n",
      "│      23 │ marine circulation        │\n",
      "├─────────┴───────────────────────────┤\n",
      "│ 23 rows                   2 columns │\n",
      "└─────────────────────────────────────┘\n",
      "\n",
      "┌─────────────────────────────────┬───────────────────────────┐\n",
      "│              combo              │           Name            │\n",
      "│             varchar             │          varchar          │\n",
      "├─────────────────────────────────┼───────────────────────────┤\n",
      "│ firewater                       │ steam explosion.          │\n",
      "│ fireearth                       │ elemental forces          │\n",
      "│ fireelemental forces            │ \"inferno fury\"            │\n",
      "│ fireair                         │ hot wind gust             │\n",
      "│ firehot wind gust               │ firestorm                 │\n",
      "│ firestormearth                  │ fire and earth            │\n",
      "│ firestormfire and earth         │ volcanic eruption         │\n",
      "│ volcanic eruptionfire and earth │ disaster duo              │\n",
      "│ volcanic eruptiondisaster duo   │ eruption aftermath chaos  │\n",
      "│ waterdisaster duo               │ tsunami catastrophe       │\n",
      "│ waterearth                      │ ocean                     │\n",
      "│ oceanearth                      │ blue planet               │\n",
      "│ blue planetearth                │ beautiful, fragile orb    │\n",
      "│ blue planetwater                │ ocean, aquatic, or marine │\n",
      "│ blue planetfire                 │ water extinguishes fire   │\n",
      "│ blue planetair                  │ water cycle               │\n",
      "│ blue planetwater cycle          │ ocean currents            │\n",
      "│ blue planetocean currents       │ earths lifeline           │\n",
      "│ earths lifelineocean currents   │ marine circulation        │\n",
      "├─────────────────────────────────┴───────────────────────────┤\n",
      "│ 19 rows                                           2 columns │\n",
      "└─────────────────────────────────────────────────────────────┘\n",
      "\n"
     ]
    }
   ],
   "source": [
    "con = duckdb.connect(\"things.db\")\n",
    "con.sql(\"SELECT * FROM things\").show()\n",
    "con.sql(\"SELECT * FROM combos\").show()\n",
    "con.close()"
   ]
  }
 ],
 "metadata": {
  "kernelspec": {
   "display_name": "venv",
   "language": "python",
   "name": "python3"
  },
  "language_info": {
   "codemirror_mode": {
    "name": "ipython",
    "version": 3
   },
   "file_extension": ".py",
   "mimetype": "text/x-python",
   "name": "python",
   "nbconvert_exporter": "python",
   "pygments_lexer": "ipython3",
   "version": "3.10.11"
  }
 },
 "nbformat": 4,
 "nbformat_minor": 2
}
